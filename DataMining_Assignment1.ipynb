{
 "cells": [
  {
   "cell_type": "markdown",
   "metadata": {},
   "source": [
    "Edited by LI Jie.  2019.9.24"
   ]
  },
  {
   "cell_type": "markdown",
   "metadata": {},
   "source": [
    "## Q3 "
   ]
  },
  {
   "cell_type": "code",
   "execution_count": 1,
   "metadata": {},
   "outputs": [],
   "source": [
    "#Assignment1\n",
    "import pandas as pd\n",
    "import numpy as np\n",
    "import matplotlib.pyplot as plt"
   ]
  },
  {
   "cell_type": "code",
   "execution_count": 9,
   "metadata": {
    "scrolled": true
   },
   "outputs": [
    {
     "data": {
      "text/html": [
       "<div>\n",
       "<style scoped>\n",
       "    .dataframe tbody tr th:only-of-type {\n",
       "        vertical-align: middle;\n",
       "    }\n",
       "\n",
       "    .dataframe tbody tr th {\n",
       "        vertical-align: top;\n",
       "    }\n",
       "\n",
       "    .dataframe thead th {\n",
       "        text-align: right;\n",
       "    }\n",
       "</style>\n",
       "<table border=\"1\" class=\"dataframe\">\n",
       "  <thead>\n",
       "    <tr style=\"text-align: right;\">\n",
       "      <th></th>\n",
       "      <th>name</th>\n",
       "      <th>height</th>\n",
       "      <th>weight</th>\n",
       "      <th>eye-color</th>\n",
       "      <th>hair-color</th>\n",
       "    </tr>\n",
       "  </thead>\n",
       "  <tbody>\n",
       "    <tr>\n",
       "      <th>1</th>\n",
       "      <td>Abel</td>\n",
       "      <td>180</td>\n",
       "      <td>73</td>\n",
       "      <td>hazel</td>\n",
       "      <td>black</td>\n",
       "    </tr>\n",
       "    <tr>\n",
       "      <th>2</th>\n",
       "      <td>Bob</td>\n",
       "      <td>183</td>\n",
       "      <td>75</td>\n",
       "      <td>brown</td>\n",
       "      <td>brown</td>\n",
       "    </tr>\n",
       "    <tr>\n",
       "      <th>3</th>\n",
       "      <td>Carl</td>\n",
       "      <td>176</td>\n",
       "      <td>70</td>\n",
       "      <td>hazel</td>\n",
       "      <td>blond</td>\n",
       "    </tr>\n",
       "    <tr>\n",
       "      <th>4</th>\n",
       "      <td>Dale</td>\n",
       "      <td>168</td>\n",
       "      <td>60</td>\n",
       "      <td>brown</td>\n",
       "      <td>black</td>\n",
       "    </tr>\n",
       "    <tr>\n",
       "      <th>5</th>\n",
       "      <td>Eric</td>\n",
       "      <td>174</td>\n",
       "      <td>65</td>\n",
       "      <td>brown</td>\n",
       "      <td>brown</td>\n",
       "    </tr>\n",
       "    <tr>\n",
       "      <th>6</th>\n",
       "      <td>Felix</td>\n",
       "      <td>170</td>\n",
       "      <td>59</td>\n",
       "      <td>brown</td>\n",
       "      <td>blond</td>\n",
       "    </tr>\n",
       "    <tr>\n",
       "      <th>7</th>\n",
       "      <td>George</td>\n",
       "      <td>180</td>\n",
       "      <td>78</td>\n",
       "      <td>blue</td>\n",
       "      <td>black</td>\n",
       "    </tr>\n",
       "    <tr>\n",
       "      <th>8</th>\n",
       "      <td>Howard</td>\n",
       "      <td>179</td>\n",
       "      <td>80</td>\n",
       "      <td>hazel</td>\n",
       "      <td>brown</td>\n",
       "    </tr>\n",
       "    <tr>\n",
       "      <th>9</th>\n",
       "      <td>Igor</td>\n",
       "      <td>175</td>\n",
       "      <td>75</td>\n",
       "      <td>blue</td>\n",
       "      <td>blond</td>\n",
       "    </tr>\n",
       "  </tbody>\n",
       "</table>\n",
       "</div>"
      ],
      "text/plain": [
       "     name  height  weight eye-color hair-color\n",
       "1    Abel     180      73     hazel      black\n",
       "2     Bob     183      75     brown      brown\n",
       "3    Carl     176      70     hazel      blond\n",
       "4    Dale     168      60     brown      black\n",
       "5    Eric     174      65     brown      brown\n",
       "6   Felix     170      59     brown      blond\n",
       "7  George     180      78      blue      black\n",
       "8  Howard     179      80     hazel      brown\n",
       "9    Igor     175      75      blue      blond"
      ]
     },
     "execution_count": 9,
     "metadata": {},
     "output_type": "execute_result"
    }
   ],
   "source": [
    "x =  pd.DataFrame({'name':['Abel','Bob','Carl','Dale','Eric','Felix','George','Howard','Igor'],'height':[180, 183,176,168,174,170,180,179,175],\n",
    "                   'weight':[73,75,70,60,65,59,78,80,75],'eye-color':['hazel','brown','hazel','brown','brown','brown','blue','hazel','blue'],\n",
    "                   'hair-color':['black','brown','blond','black','brown','blond','black','brown','blond']},index=[1,2,3,4,5,6,7,8,9])\n",
    "x"
   ]
  },
  {
   "cell_type": "markdown",
   "metadata": {},
   "source": [
    "### (a)  boxplots"
   ]
  },
  {
   "cell_type": "code",
   "execution_count": 12,
   "metadata": {
    "scrolled": true
   },
   "outputs": [
    {
     "data": {
      "image/png": "[encoded data removed]",
      "text/plain": [
       "<Figure size 432x288 with 1 Axes>"
      ]
     },
     "metadata": {
      "needs_background": "light"
     },
     "output_type": "display_data"
    },
    {
     "data": {
      "image/png": "[encoded data removed]",
      "text/plain": [
       "<Figure size 432x288 with 1 Axes>"
      ]
     },
     "metadata": {
      "needs_background": "light"
     },
     "output_type": "display_data"
    }
   ],
   "source": [
    "plt.figure(0)\n",
    "plt.xlabel('height')\n",
    "plt.boxplot(x['height']);\n",
    "plt.savefig('height_1')\n",
    "\n",
    "plt.figure(1)\n",
    "plt.xlabel('weight')\n",
    "plt.boxplot(x['weight']);\n",
    "plt.savefig('weight_1')"
   ]
  },
  {
   "cell_type": "markdown",
   "metadata": {},
   "source": [
    "### (b)  bar charts & histograms"
   ]
  },
  {
   "cell_type": "code",
   "execution_count": 13,
   "metadata": {},
   "outputs": [
    {
     "data": {
      "text/plain": [
       "[1, 1, 1, 1, 1, 1, 1, 1, 1]"
      ]
     },
     "execution_count": 13,
     "metadata": {},
     "output_type": "execute_result"
    }
   ],
   "source": [
    "# count the number for every name\n",
    "[list(x['name']).count(i) for i in x['name']]"
   ]
  },
  {
   "cell_type": "code",
   "execution_count": 14,
   "metadata": {},
   "outputs": [
    {
     "data": {
      "image/png": "[encoded data removed]",
      "text/plain": [
       "<Figure size 432x288 with 1 Axes>"
      ]
     },
     "metadata": {
      "needs_background": "light"
     },
     "output_type": "display_data"
    }
   ],
   "source": [
    "plt.bar(x['name'], [list(x['name']).count(i) for i in x['name']])\n",
    "plt.savefig('name-bar')"
   ]
  },
  {
   "cell_type": "code",
   "execution_count": 48,
   "metadata": {},
   "outputs": [
    {
     "data": {
      "image/png": "[encoded data removed]",
      "text/plain": [
       "<Figure size 432x288 with 1 Axes>"
      ]
     },
     "metadata": {
      "needs_background": "light"
     },
     "output_type": "display_data"
    }
   ],
   "source": [
    "plt.hist(x['name'],stacked=True);\n",
    "plt.savefig('name-hist')"
   ]
  },
  {
   "cell_type": "code",
   "execution_count": 58,
   "metadata": {},
   "outputs": [
    {
     "data": {
      "text/plain": [
       "[2, 4, 3]"
      ]
     },
     "execution_count": 58,
     "metadata": {},
     "output_type": "execute_result"
    }
   ],
   "source": [
    "set(x['eye-color'])\n",
    "[list(x['eye-color']).count(i) for i in set(x['eye-color'])]"
   ]
  },
  {
   "cell_type": "code",
   "execution_count": 60,
   "metadata": {},
   "outputs": [
    {
     "data": {
      "image/png": "[encoded data removed]",
      "text/plain": [
       "<Figure size 432x288 with 1 Axes>"
      ]
     },
     "metadata": {
      "needs_background": "light"
     },
     "output_type": "display_data"
    }
   ],
   "source": [
    "plt.bar(x['eye-color'],[list(x['eye-color']).count(i) for i in x['eye-color']])\n",
    "plt.savefig('eye-color-bar')"
   ]
  },
  {
   "cell_type": "code",
   "execution_count": 43,
   "metadata": {
    "scrolled": false
   },
   "outputs": [
    {
     "data": {
      "image/png": "[encoded data removed]",
      "text/plain": [
       "<Figure size 432x288 with 1 Axes>"
      ]
     },
     "metadata": {
      "needs_background": "light"
     },
     "output_type": "display_data"
    }
   ],
   "source": [
    "plt.hist(x['eye-color'],stacked=True);\n",
    "plt.savefig('eye-color-hist')"
   ]
  },
  {
   "cell_type": "code",
   "execution_count": 15,
   "metadata": {},
   "outputs": [
    {
     "data": {
      "text/plain": [
       "[3, 3, 3, 3, 3, 3, 3, 3, 3]"
      ]
     },
     "execution_count": 15,
     "metadata": {},
     "output_type": "execute_result"
    }
   ],
   "source": [
    "[list(x['hair-color']).count(i) for i in x['hair-color']]"
   ]
  },
  {
   "cell_type": "code",
   "execution_count": 45,
   "metadata": {},
   "outputs": [
    {
     "data": {
      "image/png": "[encoded data removed]",
      "text/plain": [
       "<Figure size 432x288 with 1 Axes>"
      ]
     },
     "metadata": {
      "needs_background": "light"
     },
     "output_type": "display_data"
    }
   ],
   "source": [
    "plt.bar(x['hair-color'],[list(x['hair-color']).count(i) for i in x['hair-color']])\n",
    "plt.savefig('hair-color-bar')"
   ]
  },
  {
   "cell_type": "code",
   "execution_count": 16,
   "metadata": {},
   "outputs": [
    {
     "data": {
      "image/png": "[encoded data removed]",
      "text/plain": [
       "<Figure size 432x288 with 1 Axes>"
      ]
     },
     "metadata": {
      "needs_background": "light"
     },
     "output_type": "display_data"
    }
   ],
   "source": [
    "plt.hist(x['hair-color'],histtype='bar',stacked=True);\n",
    "plt.savefig('hair-color-hist')"
   ]
  },
  {
   "cell_type": "markdown",
   "metadata": {},
   "source": [
    "### (c)  Compute the correlation coefficient（相关系数） to see whether these two attributes are correlated."
   ]
  },
  {
   "cell_type": "markdown",
   "metadata": {},
   "source": [
    "**Pearson相关系数**  \n",
    "\n",
    "取值范围为[-1,1]，当值为负时，为负相关，当值为正时，为正相关，绝对值越大，则正/负相关的程度越大。\n",
    "若数据无重复值，且两个变量完全单调相关时，spearman相关系数为+1或-1。\n",
    "当两个变量独立时相关系数为0，但反之不成立\n",
    "    \n",
    "方法一： 公式计算\n",
    "\n",
    "cov_xy=E[(X-E(X))(Y-E(Y))]= E(XY) - E(X)E(Y)  \n",
    "\n",
    "pearson_co = cov_xy / (std_x * std_y)   \n",
    "\n",
    "方法二： 调库求解\n"
   ]
  },
  {
   "cell_type": "code",
   "execution_count": 18,
   "metadata": {},
   "outputs": [
    {
     "name": "stdout",
     "output_type": "stream",
     "text": [
      "(0.8607050490579244, 0.0028905620453297735)\n"
     ]
    }
   ],
   "source": [
    "#Scipy的pearsonr方法能够同时计算相关系数和p-value\n",
    "\n",
    "import numpy as np\n",
    "from scipy.stats import pearsonr\n",
    "\n",
    "print(pearsonr(x['height'], x['weight']))"
   ]
  },
  {
   "cell_type": "markdown",
   "metadata": {},
   "source": [
    "因此height和weight相关系数为0.8607050490579244,具有强相关性。"
   ]
  },
  {
   "cell_type": "markdown",
   "metadata": {},
   "source": [
    "### (d)  "
   ]
  },
  {
   "cell_type": "markdown",
   "metadata": {},
   "source": [
    "1.covariance matrix:\n",
    "        \n",
    "方法一： 公式计算\n",
    "\n",
    "  \n",
    "方法二： 调库求解\n"
   ]
  },
  {
   "cell_type": "code",
   "execution_count": 19,
   "metadata": {},
   "outputs": [
    {
     "name": "stdout",
     "output_type": "stream",
     "text": [
      "[[24.36111111 32.43055556]\n",
      " [32.43055556 58.27777778]]\n"
     ]
    }
   ],
   "source": [
    "# numpy.cov() 求协方差矩阵\n",
    "\n",
    "print(np.cov(x['height'], x['weight']))"
   ]
  },
  {
   "cell_type": "markdown",
   "metadata": {},
   "source": [
    "2. eigenvector\n",
    "\n",
    "方法一： 公式计算\n",
    "\n",
    "A为n阶矩阵，若数λ和n维非0列向量x满足Ax=λx，那么数λ称为A的特征值，x称为A的对应于特征值λ的特征向量。式Ax=λx也可写成( A-λE)x=0，并且|λE-A|叫做A 的特征多项式。\n",
    "\n",
    "  \n",
    "方法二： 调库求解  \n"
   ]
  },
  {
   "cell_type": "code",
   "execution_count": 34,
   "metadata": {},
   "outputs": [],
   "source": [
    "covmat=np.cov(x['height'], x['weight'])"
   ]
  },
  {
   "cell_type": "code",
   "execution_count": 36,
   "metadata": {},
   "outputs": [
    {
     "data": {
      "text/plain": [
       "array([[-0.85538965, -0.51798508],\n",
       "       [ 0.51798508, -0.85538965]])"
      ]
     },
     "execution_count": 36,
     "metadata": {},
     "output_type": "execute_result"
    }
   ],
   "source": [
    "# 官方文档链接：http://docs.scipy.org/doc/numpy/reference/generated/numpy.linalg.eig.html\n",
    "from numpy import linalg\n",
    "eigenvalue,eigenvector=np.linalg.eig(covmat)\n",
    "eigenvector"
   ]
  },
  {
   "cell_type": "markdown",
   "metadata": {},
   "source": [
    "The required eigenvector is [0.5180 0.8554]."
   ]
  },
  {
   "cell_type": "markdown",
   "metadata": {},
   "source": [
    "  3. The projection with regard to the center, "
   ]
  },
  {
   "cell_type": "code",
   "execution_count": 42,
   "metadata": {},
   "outputs": [
    {
     "name": "stdout",
     "output_type": "stream",
     "text": [
      "the projection for Abel is 155.6807589313631, for Dale is 138.34487249639074 and for Igor is 154.80161283878363\n"
     ]
    }
   ],
   "source": [
    "#reduce to 1 dimension\n",
    "center= eigenvector[:,1]\n",
    "# for Abel\n",
    "abel = x.loc[1,['height','weight']]\n",
    "abel1=abs(np.dot(center,abel))\n",
    "\n",
    "# for Dale\n",
    "dale = x.loc[4,['height','weight']]\n",
    "dale1 =abs( np.dot(center,dale))\n",
    "# for Igor\n",
    "igor = x.loc[9,['height','weight']]\n",
    "igor1=abs( np.dot(center,igor))\n",
    "\n",
    "print(\"the projection for Abel is {}, for Dale is {} and for Igor is {}\".format(abel1,dale1,igor1))"
   ]
  },
  {
   "cell_type": "markdown",
   "metadata": {},
   "source": [
    "### (e)  卡方分布(chi-square distribution, χ2-distribution)"
   ]
  },
  {
   "cell_type": "markdown",
   "metadata": {},
   "source": [
    "χ2 用于衡量实际值与理论值的差异程度（也就是卡方检验的核心思想），包含了以下两个信息：\n",
    "1. 实际值与理论值偏差的绝对大小（由于平方的存在，差异是被放大的）\n",
    "2. 差异程度与理论值的相对大小\n",
    "\n",
    "方法一： 公式计算\n",
    "\n",
    "自由度= (行数 - 1) * (列数 - 1)\n",
    "\n",
    "χ2 =∑ ((A−E)^2 / E)   \n",
    "A:实际值  \n",
    "E：期望值、理论值\n",
    "  \n",
    "方法二： 调库求解  \n"
   ]
  },
  {
   "cell_type": "code",
   "execution_count": 46,
   "metadata": {},
   "outputs": [
    {
     "data": {
      "text/plain": [
       "(1.5, 0.8266414672967757, 4, array([[0.66666667, 0.66666667, 0.66666667],\n",
       "        [1.33333333, 1.33333333, 1.33333333],\n",
       "        [1.        , 1.        , 1.        ]]))"
      ]
     },
     "execution_count": 46,
     "metadata": {},
     "output_type": "execute_result"
    }
   ],
   "source": [
    "from  scipy.stats import chi2_contingency\n",
    "import numpy as np\n",
    "\n",
    "#返回值为 \n",
    "#卡方检验值chisq-statistic, p-value, 自由度df  ，期望频率expected_frep\n",
    "kf = chi2_contingency([[1,1,0],[1,1,2],[1,1,1]])\n",
    "kf"
   ]
  },
  {
   "cell_type": "markdown",
   "metadata": {},
   "source": [
    "得到 chisq-statistic=1.5, p-value=0.8266, df=4  expected_frep  \n",
    "结论: 因为p值=0.8266>0.1, 故接受原假设"
   ]
  },
  {
   "cell_type": "code",
   "execution_count": null,
   "metadata": {},
   "outputs": [],
   "source": []
  }
 ],
 "metadata": {
  "kernelspec": {
   "display_name": "Python 3",
   "language": "python",
   "name": "python3"
  },
  "language_info": {
   "codemirror_mode": {
    "name": "ipython",
    "version": 3
   },
   "file_extension": ".py",
   "mimetype": "text/x-python",
   "name": "python",
   "nbconvert_exporter": "python",
   "pygments_lexer": "ipython3",
   "version": "3.7.2"
  }
 },
 "nbformat": 4,
 "nbformat_minor": 2
}
